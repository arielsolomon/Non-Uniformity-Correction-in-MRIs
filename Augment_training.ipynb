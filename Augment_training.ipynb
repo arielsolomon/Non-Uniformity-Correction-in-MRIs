{
  "nbformat": 4,
  "nbformat_minor": 0,
  "metadata": {
    "colab": {
      "name": "Augment_training.ipynb",
      "provenance": [],
      "collapsed_sections": []
    },
    "kernelspec": {
      "name": "python3",
      "display_name": "Python 3"
    },
    "accelerator": "GPU"
  },
  "cells": [
    {
      "cell_type": "code",
      "metadata": {
        "id": "oVR4pUyX4F-F",
        "colab_type": "code",
        "outputId": "ebd0762d-b308-410e-d589-ebac9a65e520",
        "colab": {
          "base_uri": "https://localhost:8080/",
          "height": 34
        }
      },
      "source": [
        "from google.colab import drive\n",
        "drive.mount('/content/drive',force_remount=True)"
      ],
      "execution_count": 0,
      "outputs": [
        {
          "output_type": "stream",
          "text": [
            "Mounted at /content/drive\n"
          ],
          "name": "stdout"
        }
      ]
    },
    {
      "cell_type": "code",
      "metadata": {
        "id": "SFHyliBV4PnQ",
        "colab_type": "code",
        "outputId": "5e2fad07-1e09-4c49-d13c-56e37ba6fdc7",
        "colab": {
          "base_uri": "https://localhost:8080/",
          "height": 170
        }
      },
      "source": [
        "import numpy as np\n",
        "from sklearn.utils import shuffle\n",
        "import nibabel as nib #reading MR images\n",
        "import glob\n",
        "from matplotlib import pyplot as plt\n",
        "%matplotlib inline\n",
        "!pip install nilearn\n",
        "import nilearn"
      ],
      "execution_count": 0,
      "outputs": [
        {
          "output_type": "stream",
          "text": [
            "Requirement already satisfied: nilearn in /usr/local/lib/python3.6/dist-packages (0.6.0)\n",
            "Requirement already satisfied: scipy>=0.19 in /usr/local/lib/python3.6/dist-packages (from nilearn) (1.3.3)\n",
            "Requirement already satisfied: joblib>=0.11 in /usr/local/lib/python3.6/dist-packages (from nilearn) (0.14.1)\n",
            "Requirement already satisfied: nibabel>=2.0.2 in /usr/local/lib/python3.6/dist-packages (from nilearn) (2.3.3)\n",
            "Requirement already satisfied: numpy>=1.11 in /usr/local/lib/python3.6/dist-packages (from nilearn) (1.17.4)\n",
            "Requirement already satisfied: sklearn in /usr/local/lib/python3.6/dist-packages (from nilearn) (0.0)\n",
            "Requirement already satisfied: scikit-learn>=0.19 in /usr/local/lib/python3.6/dist-packages (from nilearn) (0.21.3)\n",
            "Requirement already satisfied: six>=1.3 in /usr/local/lib/python3.6/dist-packages (from nibabel>=2.0.2->nilearn) (1.12.0)\n",
            "Requirement already satisfied: bz2file in /usr/local/lib/python3.6/dist-packages (from nibabel>=2.0.2->nilearn) (0.98)\n"
          ],
          "name": "stdout"
        }
      ]
    },
    {
      "cell_type": "code",
      "metadata": {
        "id": "0uIvAuepbsOS",
        "colab_type": "code",
        "colab": {}
      },
      "source": [
        "filenames = sorted(glob.glob('drive/My Drive/Research/Augmented Dataset/Aug_Inputs_Normalized_npz/*'))\n",
        "labels = sorted(glob.glob('drive/My Drive/Research/Augmented Dataset/Aug_Labels_Normalized_npz/*'))\n",
        "\n",
        "# len(labels)"
      ],
      "execution_count": 0,
      "outputs": []
    },
    {
      "cell_type": "code",
      "metadata": {
        "id": "Qx9lSPKcK4NZ",
        "colab_type": "code",
        "outputId": "86f76d3b-41d5-4165-a9d0-283bdc46c205",
        "colab": {
          "base_uri": "https://localhost:8080/",
          "height": 51
        }
      },
      "source": [
        "from sklearn.model_selection import train_test_split\n",
        "\n",
        "filenames = sorted(glob.glob('drive/My Drive/Research/Augmented Dataset/Aug_Inputs_Normalized_npz/*'))\n",
        "labels = sorted(glob.glob('drive/My Drive/Research/Augmented Dataset/Aug_Labels_Normalized_npz/*'))\n",
        "\n",
        "from sklearn.utils import shuffle\n",
        "\n",
        "filenames , labels = shuffle(filenames, labels)\n",
        "\n",
        "X_train_filenames, X_val_filenames, y_train, y_val = train_test_split(\n",
        "    filenames, labels, test_size=0.2, random_state=1)\n",
        "\n",
        "print(\"Training Set Size: \", len(X_train_filenames), \" MRIs\")\n",
        "print(\"Validation Set Size: \", len(X_val_filenames), \" MRIs\")\n"
      ],
      "execution_count": 0,
      "outputs": [
        {
          "output_type": "stream",
          "text": [
            "Training Set Size:  1279  MRIs\n",
            "Validation Set Size:  320  MRIs\n"
          ],
          "name": "stdout"
        }
      ]
    },
    {
      "cell_type": "code",
      "metadata": {
        "id": "xzV1DJ4YdFwk",
        "colab_type": "code",
        "outputId": "342c9ef3-46f0-43c0-a7d4-3cedc11ad5e6",
        "colab": {
          "base_uri": "https://localhost:8080/",
          "height": 34
        }
      },
      "source": [
        "temp1 = np.load(filenames[0])['arr_0']\n",
        "temp2 = np.load(filenames[1])['arr_0']\n",
        "\n",
        "temp = np.concatenate((temp1,temp2))\n",
        "print(temp.shape)"
      ],
      "execution_count": 0,
      "outputs": [
        {
          "output_type": "stream",
          "text": [
            "(520, 64, 64, 1)\n"
          ],
          "name": "stdout"
        }
      ]
    },
    {
      "cell_type": "code",
      "metadata": {
        "id": "y54mD2LwNo2G",
        "colab_type": "code",
        "outputId": "60e80587-11c0-4c3e-b0e8-f14aa2a25184",
        "colab": {
          "base_uri": "https://localhost:8080/",
          "height": 80
        }
      },
      "source": [
        "import keras\n",
        "import cv2\n",
        "class My_Custom_Generator(keras.utils.Sequence) :  \n",
        "  \n",
        "  def __init__(self, image_filenames, labels, batch_size) :\n",
        "    self.image_filenames = image_filenames\n",
        "    self.labels = labels\n",
        "    self.batch_size = batch_size\n",
        "  def __len__(self) :\n",
        "    return (np.ceil(len(self.image_filenames) / float(self.batch_size))).astype(np.int)\n",
        "  \n",
        "  \n",
        "  def __getitem__(self, idx) :\n",
        "    batch_x = self.image_filenames[idx * self.batch_size : (idx+1) * self.batch_size]\n",
        "    batch_y = self.labels[idx * self.batch_size : (idx+1) * self.batch_size]\n",
        "\n",
        "    N = 64 \n",
        "    images = np.load(batch_x[0])['arr_0']\n",
        "    for f in range(1,len(batch_x)):\n",
        "      temp = np.load(batch_x[f])['arr_0']\n",
        "      images = np.concatenate((images,temp))\n",
        "\n",
        "    # maximum = np.max(images)    \n",
        "    # minimum = np.min(images)\n",
        "    # images = (images - minimum) / (maximum - minimum)\n",
        "\n",
        "    labels = np.load(batch_x[0])['arr_0']\n",
        "    for f in range(1,len(batch_y)):\n",
        "      temp = np.load(batch_y[f])['arr_0']\n",
        "      labels = np.concatenate((labels,temp))\n",
        "\n",
        "    # m = np.max(labels) \n",
        "    # mi = np.min(labels)\n",
        "    # labels = (labels - mi) / (m - mi)\n",
        "\n",
        "    for i in range(len(labels)):\n",
        "      for j in range(N):\n",
        "        for k in range(N):\n",
        "          if (images[i,j,k,0] == 0): #images array contains data from skull striped images; \n",
        "            labels[i,j,k,0] = 0 #this is done to set those pixel values that are outside the brain in the images ground truth to 0\n",
        "\n",
        "    return images, labels\n"
      ],
      "execution_count": 0,
      "outputs": [
        {
          "output_type": "stream",
          "text": [
            "Using TensorFlow backend.\n"
          ],
          "name": "stderr"
        },
        {
          "output_type": "display_data",
          "data": {
            "text/html": [
              "<p style=\"color: red;\">\n",
              "The default version of TensorFlow in Colab will soon switch to TensorFlow 2.x.<br>\n",
              "We recommend you <a href=\"https://www.tensorflow.org/guide/migrate\" target=\"_blank\">upgrade</a> now \n",
              "or ensure your notebook will continue to use TensorFlow 1.x via the <code>%tensorflow_version 1.x</code> magic:\n",
              "<a href=\"https://colab.research.google.com/notebooks/tensorflow_version.ipynb\" target=\"_blank\">more info</a>.</p>\n"
            ],
            "text/plain": [
              "<IPython.core.display.HTML object>"
            ]
          },
          "metadata": {
            "tags": []
          }
        }
      ]
    },
    {
      "cell_type": "code",
      "metadata": {
        "colab_type": "code",
        "id": "n-0EHaM-cuGV",
        "colab": {}
      },
      "source": [
        "# inst = My_Custom_Generator(X_train_filenames, y_train, 32)\n",
        "# img, lab = inst.__getitem__(1)\n",
        "\n",
        "# print(np.shape(img),np.shape(lab))"
      ],
      "execution_count": 0,
      "outputs": []
    },
    {
      "cell_type": "code",
      "metadata": {
        "id": "_1y5AABpiduG",
        "colab_type": "code",
        "colab": {}
      },
      "source": [
        "import os\n",
        "import cv2\n",
        "from keras.layers import Input,Dense,Flatten,Dropout,merge,Reshape,Conv2D,MaxPooling2D,UpSampling2D,Conv2DTranspose\n",
        "from keras.layers.normalization import BatchNormalization\n",
        "from keras.models import Model,Sequential\n",
        "#from keras.callbacks import ModelCheckpoint\n",
        "from keras.optimizers import Adadelta, RMSprop,SGD,Adam\n",
        "from keras.losses import mean_absolute_error,mean_squared_error\n",
        "from keras import regularizers\n",
        "from keras import backend as K"
      ],
      "execution_count": 0,
      "outputs": []
    },
    {
      "cell_type": "code",
      "metadata": {
        "id": "K2l3MHteht68",
        "colab_type": "code",
        "outputId": "3d181ae3-9823-434b-d31d-b84502c047db",
        "colab": {
          "base_uri": "https://localhost:8080/",
          "height": 1000
        }
      },
      "source": [
        "# batch_size = 256\n",
        "# epochs = 100\n",
        "inChannel = 1\n",
        "N=64\n",
        "x, y = N, N\n",
        "input_img = Input(shape = (x, y, inChannel))\n",
        "\n",
        "def autoencoder(input_img):\n",
        "  \n",
        "    #encoder\n",
        "    \n",
        "    conv1 = Conv2D(12, (7, 7), activation='relu', padding='same')(input_img) # N x N x 12\n",
        "    conv1 = BatchNormalization()(conv1)\n",
        "    conv1 = Conv2D(12, (7, 7), activation='relu', padding='same')(conv1)\n",
        "    conv1 = BatchNormalization()(conv1)\n",
        "    pool1 = MaxPooling2D(pool_size=(2, 2))(conv1) #14 x 14 x 32\n",
        "\n",
        "    conv2 = Conv2D(24, (7, 7), activation='relu', padding='same')(pool1) # N/2 x N/2 x 24\n",
        "    conv2 = BatchNormalization()(conv2)\n",
        "    conv2 = Conv2D(24, (7, 7), activation='relu', padding='same')(conv2)\n",
        "    conv2 = BatchNormalization()(conv2) \n",
        "    pool2 = MaxPooling2D(pool_size=(2, 2))(conv2) #14 x 14 x 32\n",
        "    \n",
        "    conv3 = Conv2D(48, (7, 7), activation='relu', padding='same')(pool2) # N/4 x N/4 x 24\n",
        "    conv3 = BatchNormalization()(conv3)\n",
        "    conv3 = Conv2D(48, (7, 7), activation='relu', padding='same')(conv3)\n",
        "    conv3 = BatchNormalization()(conv3) \n",
        "\n",
        "    #decoder\n",
        "\n",
        "    conv4 = Conv2D(48, (7, 7), activation='relu', padding='same')(conv3) # N/2 x N/2 x 24\n",
        "    conv4 = BatchNormalization()(conv4)\n",
        "    conv4 = Conv2D(48, (7, 7), activation='relu', padding='same')(conv4)\n",
        "    conv4 = BatchNormalization()(conv4) \n",
        "    \n",
        "    up1 = UpSampling2D((2,2))(conv4) \n",
        "\n",
        "    conv5 = Conv2D(24, (7, 7), activation='relu', padding='same')(up1) # N/2 x N/2 x 24\n",
        "    conv5 = BatchNormalization()(conv5)\n",
        "    conv5 = Conv2D(24, (7, 7), activation='relu', padding='same')(conv5)\n",
        "    conv5 = BatchNormalization()(conv5)\n",
        "    \n",
        "    up2 = UpSampling2D((2,2))(conv5) \n",
        "    \n",
        "    conv6 = Conv2D(12, (7, 7), activation='relu', padding='same')(up2) # N x N x 12\n",
        "    conv6 = BatchNormalization()(conv6)\n",
        "    conv6 = Conv2D(12, (7, 7), activation='relu', padding='same')(conv6)\n",
        "    conv6 = BatchNormalization()(conv6)\n",
        "    decoded = Conv2D(1, (7, 7), activation='sigmoid', padding='same')(conv6) # N x N x 1\n",
        "    return decoded\n",
        "\n",
        "autoencoder = Model(input_img, autoencoder(input_img))\n",
        "autoencoder.compile(loss='mean_squared_error', optimizer = RMSprop()) #a better metric (instead of mean squared error) to verify the performance would be \n",
        "autoencoder.summary()                                                 #to feed the corrected MRI images in Brainsuite and find out if the segmentation of the brain \n",
        "                                                                      #tissues is done right"
      ],
      "execution_count": 0,
      "outputs": [
        {
          "output_type": "stream",
          "text": [
            "Model: \"model_2\"\n",
            "_________________________________________________________________\n",
            "Layer (type)                 Output Shape              Param #   \n",
            "=================================================================\n",
            "input_2 (InputLayer)         (None, 64, 64, 1)         0         \n",
            "_________________________________________________________________\n",
            "conv2d_10 (Conv2D)           (None, 64, 64, 12)        600       \n",
            "_________________________________________________________________\n",
            "batch_normalization_9 (Batch (None, 64, 64, 12)        48        \n",
            "_________________________________________________________________\n",
            "conv2d_11 (Conv2D)           (None, 64, 64, 12)        7068      \n",
            "_________________________________________________________________\n",
            "batch_normalization_10 (Batc (None, 64, 64, 12)        48        \n",
            "_________________________________________________________________\n",
            "max_pooling2d_2 (MaxPooling2 (None, 32, 32, 12)        0         \n",
            "_________________________________________________________________\n",
            "conv2d_12 (Conv2D)           (None, 32, 32, 24)        14136     \n",
            "_________________________________________________________________\n",
            "batch_normalization_11 (Batc (None, 32, 32, 24)        96        \n",
            "_________________________________________________________________\n",
            "conv2d_13 (Conv2D)           (None, 32, 32, 24)        28248     \n",
            "_________________________________________________________________\n",
            "batch_normalization_12 (Batc (None, 32, 32, 24)        96        \n",
            "_________________________________________________________________\n",
            "max_pooling2d_3 (MaxPooling2 (None, 16, 16, 24)        0         \n",
            "_________________________________________________________________\n",
            "conv2d_14 (Conv2D)           (None, 16, 16, 48)        56496     \n",
            "_________________________________________________________________\n",
            "batch_normalization_13 (Batc (None, 16, 16, 48)        192       \n",
            "_________________________________________________________________\n",
            "conv2d_15 (Conv2D)           (None, 16, 16, 48)        112944    \n",
            "_________________________________________________________________\n",
            "batch_normalization_14 (Batc (None, 16, 16, 48)        192       \n",
            "_________________________________________________________________\n",
            "conv2d_16 (Conv2D)           (None, 16, 16, 48)        112944    \n",
            "_________________________________________________________________\n",
            "batch_normalization_15 (Batc (None, 16, 16, 48)        192       \n",
            "_________________________________________________________________\n",
            "conv2d_17 (Conv2D)           (None, 16, 16, 48)        112944    \n",
            "_________________________________________________________________\n",
            "batch_normalization_16 (Batc (None, 16, 16, 48)        192       \n",
            "_________________________________________________________________\n",
            "up_sampling2d_2 (UpSampling2 (None, 32, 32, 48)        0         \n",
            "_________________________________________________________________\n",
            "conv2d_18 (Conv2D)           (None, 32, 32, 24)        56472     \n",
            "_________________________________________________________________\n",
            "batch_normalization_17 (Batc (None, 32, 32, 24)        96        \n",
            "_________________________________________________________________\n",
            "conv2d_19 (Conv2D)           (None, 32, 32, 24)        28248     \n",
            "_________________________________________________________________\n",
            "batch_normalization_18 (Batc (None, 32, 32, 24)        96        \n",
            "_________________________________________________________________\n",
            "up_sampling2d_3 (UpSampling2 (None, 64, 64, 24)        0         \n",
            "_________________________________________________________________\n",
            "conv2d_20 (Conv2D)           (None, 64, 64, 12)        14124     \n",
            "_________________________________________________________________\n",
            "batch_normalization_19 (Batc (None, 64, 64, 12)        48        \n",
            "_________________________________________________________________\n",
            "conv2d_21 (Conv2D)           (None, 64, 64, 12)        7068      \n",
            "_________________________________________________________________\n",
            "batch_normalization_20 (Batc (None, 64, 64, 12)        48        \n",
            "_________________________________________________________________\n",
            "conv2d_22 (Conv2D)           (None, 64, 64, 1)         589       \n",
            "=================================================================\n",
            "Total params: 553,225\n",
            "Trainable params: 552,553\n",
            "Non-trainable params: 672\n",
            "_________________________________________________________________\n"
          ],
          "name": "stdout"
        }
      ]
    },
    {
      "cell_type": "code",
      "metadata": {
        "id": "hzVSKIanN7fn",
        "colab_type": "code",
        "outputId": "4ecb7551-277d-430b-8c1e-b18b265f5731",
        "colab": {
          "base_uri": "https://localhost:8080/",
          "height": 357
        }
      },
      "source": [
        "batch_size = 8\n",
        "\n",
        "my_training_batch_generator = My_Custom_Generator(X_train_filenames, y_train, batch_size)\n",
        "my_validation_batch_generator = My_Custom_Generator(X_val_filenames, y_val, 8)\n",
        "\n",
        "\n",
        "## Define our model here.\n",
        "\n",
        "\n",
        "autoencoder_train = autoencoder.fit_generator(generator = my_training_batch_generator,\n",
        "                   steps_per_epoch =  int(len(X_train_filenames) // batch_size),\n",
        "                   epochs = 10,\n",
        "                   verbose = 1,\n",
        "                   validation_data = my_validation_batch_generator,\n",
        "                   validation_steps = int(len(X_val_filenames) // 8))"
      ],
      "execution_count": 0,
      "outputs": [
        {
          "output_type": "stream",
          "text": [
            "Epoch 1/10\n",
            "159/159 [==============================] - 888s 6s/step - loss: 0.0326 - val_loss: 0.0921\n",
            "Epoch 2/10\n",
            "159/159 [==============================] - 909s 6s/step - loss: 0.0321 - val_loss: 0.1482\n",
            "Epoch 3/10\n",
            "159/159 [==============================] - 903s 6s/step - loss: 0.0319 - val_loss: 0.1315\n",
            "Epoch 4/10\n",
            "159/159 [==============================] - 895s 6s/step - loss: 0.0319 - val_loss: 0.0807\n",
            "Epoch 5/10\n",
            "159/159 [==============================] - 887s 6s/step - loss: 0.0318 - val_loss: 0.1440\n",
            "Epoch 6/10\n",
            "159/159 [==============================] - 894s 6s/step - loss: 0.0318 - val_loss: 0.2248\n",
            "Epoch 7/10\n",
            "159/159 [==============================] - 889s 6s/step - loss: 0.0318 - val_loss: 0.1004\n",
            "Epoch 8/10\n",
            "159/159 [==============================] - 893s 6s/step - loss: 0.0317 - val_loss: 0.2184\n",
            "Epoch 9/10\n",
            "159/159 [==============================] - 902s 6s/step - loss: 0.0317 - val_loss: 0.2078\n",
            "Epoch 10/10\n",
            "159/159 [==============================] - 908s 6s/step - loss: 0.0318 - val_loss: 0.1686\n"
          ],
          "name": "stdout"
        }
      ]
    },
    {
      "cell_type": "code",
      "metadata": {
        "id": "6iEoSG9E4peT",
        "colab_type": "code",
        "outputId": "bfc42d21-0008-4260-d06f-424ad1d05254",
        "colab": {
          "base_uri": "https://localhost:8080/",
          "height": 281
        }
      },
      "source": [
        "loss = autoencoder_train.history['loss']\n",
        "val_loss = autoencoder_train.history['val_loss']\n",
        "epochs = range(10)\n",
        "plt.figure()\n",
        "plt.plot(epochs, loss, 'bo', label='Training loss')\n",
        "plt.plot(epochs, val_loss, 'b', label='Validation loss')\n",
        "plt.title('Training and validation loss')\n",
        "plt.legend()\n",
        "plt.show()"
      ],
      "execution_count": 0,
      "outputs": [
        {
          "output_type": "display_data",
          "data": {
            "image/png": "[encoded data removed]",
            "text/plain": [
              "<Figure size 432x288 with 1 Axes>"
            ]
          },
          "metadata": {
            "tags": []
          }
        }
      ]
    },
    {
      "cell_type": "code",
      "metadata": {
        "id": "TS-dVtok43cR",
        "colab_type": "code",
        "colab": {}
      },
      "source": [
        "# pred = autoencoder.predict(valid_X)\n",
        "autoencoder.save('drive/My Drive/Research/Models/autoencoder_Augmented_model.h5') #to save the weights of the trained model"
      ],
      "execution_count": 0,
      "outputs": []
    },
    {
      "cell_type": "code",
      "metadata": {
        "id": "xF_iZgVu43lw",
        "colab_type": "code",
        "outputId": "0a365778-eb9f-4cb9-9fb8-6da1efa1c6e9",
        "colab": {
          "base_uri": "https://localhost:8080/",
          "height": 222
        }
      },
      "source": [
        "plt.figure(figsize=(16, 4))\n",
        "print(\"Ground truth for the Test Images\")\n",
        "#Displaying the first five images from the ground truth of the test images\n",
        "\n",
        "for i in range(5):\n",
        "    plt.subplot(1, 5, i+1)\n",
        "    plt.imshow(valid_ground[i+200,:,:,0],cmap='gray')                                               #plt.imshow(valid_ground[i+200, ..., 205], cmap='gray')\n",
        "plt.show()    "
      ],
      "execution_count": 0,
      "outputs": [
        {
          "output_type": "stream",
          "text": [
            "Ground truth for the Test Images\n"
          ],
          "name": "stdout"
        },
        {
          "output_type": "display_data",
          "data": {
            "image/png": "[encoded data removed]",
            "text/plain": [
              "<Figure size 1152x288 with 5 Axes>"
            ]
          },
          "metadata": {
            "tags": []
          }
        }
      ]
    },
    {
      "cell_type": "code",
      "metadata": {
        "id": "kiVQ3SE843vv",
        "colab_type": "code",
        "outputId": "353cb3f8-677a-4074-af25-b075b942fc43",
        "colab": {
          "base_uri": "https://localhost:8080/",
          "height": 222
        }
      },
      "source": [
        "plt.figure(figsize=(16, 4))\n",
        "print(\"Reconstruction of Bias field from the training dataset\")\n",
        "#Displaying the first five images from the prediction made by the auto encoder on the test images\n",
        "for i in range(5):\n",
        "    plt.subplot(1, 5, i+1)\n",
        "    plt.imshow(pred[i+200,:,:,0],cmap='gray')                                                                                           #plt.imshow(pred[i, ..., 0], cmap='gray')  \n",
        "plt.show()"
      ],
      "execution_count": 0,
      "outputs": [
        {
          "output_type": "stream",
          "text": [
            "Reconstruction of Bias field from the Test Images\n"
          ],
          "name": "stdout"
        },
        {
          "output_type": "display_data",
          "data": {
            "image/png": "[encoded data removed]",
            "text/plain": [
              "<Figure size 1152x288 with 5 Axes>"
            ]
          },
          "metadata": {
            "tags": []
          }
        }
      ]
    },
    {
      "cell_type": "code",
      "metadata": {
        "id": "MzwQ_6Ym43YY",
        "colab_type": "code",
        "colab": {}
      },
      "source": [
        "autoencoder.save('drive/My Drive/autoencoder_model.h5') #to save the weights of the trained model"
      ],
      "execution_count": 0,
      "outputs": []
    },
    {
      "cell_type": "code",
      "metadata": {
        "id": "fNzXUNjN43U0",
        "colab_type": "code",
        "colab": {}
      },
      "source": [
        ""
      ],
      "execution_count": 0,
      "outputs": []
    }
  ]
}